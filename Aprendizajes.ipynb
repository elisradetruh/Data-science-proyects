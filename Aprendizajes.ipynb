{
 "cells": [
  {
   "cell_type": "markdown",
   "id": "54608f67",
   "metadata": {},
   "source": [
    "Primeros Aprendizajes Curso Big data"
   ]
  },
  {
   "cell_type": "markdown",
   "id": "f152d42e",
   "metadata": {},
   "source": [
    "@Docs – Documentación personalizada"
   ]
  },
  {
   "cell_type": "markdown",
   "id": "9538638b",
   "metadata": {},
   "source": [
    "Puedes agregar fuentes de documentación para que la IA las use. Por ejemplo, si tu proyecto usa una biblioteca poco común, puedes alimentarle su documentación. Haciéndolo:\n",
    "\n",
    "Escribe @Docs y elige Add new doc. Te pedirá una URL. Ingresa la URL de la documentación oficial de esa librería (por ejemplo, la página HTML o PDF).\n",
    "Le das un nombre a esa doc, digamos \"MiLibreriaAPI\".\n",
    "A partir de entonces, puedes hacer @MiLibreriaAPI en tus preguntas, y Cursor usará el contenido de ese enlace para responder. Por ejemplo, \"@MiLibreriaAPI ¿Cuál es la función para inicializar el motor?\".\n",
    "Esta funcionalidad es fantástica para entornos corporativos (puedes cargar tus docs internas) o para librerías no soportadas comúnmente. Recuerda que debes tener permiso de acceder a esa doc y que cargarla puede tardar unos segundos.\n",
    "Puedes gestionar la lista de docs agregadas en los ajustes (Features tab)."
   ]
  },
  {
   "cell_type": "markdown",
   "id": "313c59d0",
   "metadata": {},
   "source": [
    "### @Imagen – Soporte de imágenes"
   ]
  },
  {
   "cell_type": "markdown",
   "id": "d273ff0d",
   "metadata": {},
   "source": [
    "Cursor incluso permite que subas/imputes imágenes en el chat. Por ejemplo, un diagrama o un boceto de interfaz. La IA podría describir la imagen y hasta generar código a partir de ella (imaginemos que dibujaste un prototipo de página web, la IA intenta generar el HTML/CSS). Para usarlo, hay un botón de imagen debajo del input de chat, o arrastra-una imagen dentro. Este es un campo muy avanzado (y sujeto a limitaciones de los modelos con visión). En Python puro tal vez no lo uses, pero es bueno saber que existe."
   ]
  },
  {
   "cell_type": "markdown",
   "id": "d7f6482e",
   "metadata": {},
   "source": []
  },
  {
   "cell_type": "markdown",
   "id": "8adc378a",
   "metadata": {},
   "source": []
  }
 ],
 "metadata": {
  "language_info": {
   "name": "python"
  }
 },
 "nbformat": 4,
 "nbformat_minor": 5
}
